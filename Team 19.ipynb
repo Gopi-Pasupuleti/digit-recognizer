{
 "cells": [
  {
   "cell_type": "markdown",
   "metadata": {},
   "source": [
    "__1. This digit recognition project typically involves training a machine learning models-<br>1. Dummy Classifier <br>2. K-Nearest Neighbours <br>3. Decision Tree Classifier <br>4. Naive Bayes Gaussian Classifier <br>5. Gradient Booster classifier <br>6. Support Vector Classification <br>7. Multi-layer Perceptron Classifier  to recognize handwritten digits.<br> The goal is to create an algorithm that can accurately identify and classify handwritten digits (0-9) based on images of these digits.__"
   ]
  },
  {
   "cell_type": "markdown",
   "metadata": {},
   "source": [
    "__2. This code segment imports various Python libraries and modules essential for a machine learning project. <br>Here's a breakdown:__\n",
    "\n",
    "__pandas, numpy: Libraries for data manipulation and numerical computations.<br>\n",
    "matplotlib.pyplot, matplotlib.image: Libraries for plotting and handling images.<br>\n",
    "LabelBinarizer, StandardScaler: Tools for data preprocessing from scikit-learn.<br>\n",
    "DummyClassifier, GradientBoostingClassifier, SVC, KNeighborsClassifier, DecisionTreeClassifier, GaussianNB, MLPClassifier: Different machine learning algorithms/models available in scikit-learn.<br>\n",
    "accuracy_score, confusion_matrix, classification_report: Functions for evaluating model performance.<br>\n",
    "train_test_split, cross_validate, cross_val_score, GridSearchCV: Tools for model evaluation, validation, and hyperparameter tuning.<br>\n",
    "fetch_openml: Function for fetching datasets from OpenML.<br>\n",
    "warnings: Module used for handling warnings; in this case, it's suppressing warnings using warnings.filterwarnings('ignore').__"
   ]
  },
  {
   "cell_type": "code",
   "execution_count": 1,
   "metadata": {
    "execution": {
     "iopub.execute_input": "2023-12-09T02:32:09.862927Z",
     "iopub.status.busy": "2023-12-09T02:32:09.862074Z",
     "iopub.status.idle": "2023-12-09T02:32:09.871926Z",
     "shell.execute_reply": "2023-12-09T02:32:09.870220Z",
     "shell.execute_reply.started": "2023-12-09T02:32:09.862880Z"
    }
   },
   "outputs": [],
   "source": [
    "import pandas as pd\n",
    "import numpy as np\n",
    "import matplotlib.pyplot as plt\n",
    "from sklearn.ensemble import RandomForestClassifier\n",
    "import matplotlib.image as mpimg\n",
    "from sklearn.preprocessing import LabelBinarizer, StandardScaler\n",
    "from sklearn.dummy import DummyClassifier\n",
    "from sklearn.metrics import accuracy_score, confusion_matrix, classification_report\n",
    "from sklearn.ensemble import GradientBoostingClassifier\n",
    "from sklearn.svm import SVC\n",
    "from sklearn.model_selection import train_test_split, cross_validate, cross_val_score, GridSearchCV\n",
    "from sklearn.neighbors import KNeighborsClassifier\n",
    "from sklearn.tree import DecisionTreeClassifier\n",
    "from sklearn.naive_bayes import GaussianNB\n",
    "from sklearn.datasets import fetch_openml\n",
    "from sklearn.neural_network import MLPClassifier\n",
    "import warnings\n",
    "warnings.filterwarnings('ignore')\n"
   ]
  },
  {
   "cell_type": "markdown",
   "metadata": {},
   "source": [
    "__3. This code segment imports the Pandas library and uses the read_csv() function to read data from train.csv and test.csv files, storing their contents into Pandas DataFrames named train_pd and test_pd respectively. These DataFrames can be used to work with the data from the CSV files.__"
   ]
  },
  {
   "cell_type": "code",
   "execution_count": 2,
   "metadata": {
    "execution": {
     "iopub.execute_input": "2023-12-09T02:32:09.874599Z",
     "iopub.status.busy": "2023-12-09T02:32:09.874020Z",
     "iopub.status.idle": "2023-12-09T02:32:15.213851Z",
     "shell.execute_reply": "2023-12-09T02:32:15.212785Z",
     "shell.execute_reply.started": "2023-12-09T02:32:09.874560Z"
    }
   },
   "outputs": [],
   "source": [
    "train_pd = pd.read_csv(\"C:/Users/GOPI/Downloads/train.csv\") # Reading the train.csv file into train_pd DataFrame\n",
    "test_pd = pd.read_csv(\"C:/Users/GOPI/Downloads/test.csv\") # Reading the test.csv file into test_pd DataFrame\n"
   ]
  },
  {
   "cell_type": "markdown",
   "metadata": {},
   "source": [
    "__4. This code segment involves preparing the data for training a machine learning model. <br>It does the following:<br> y_train: Extracts the labels for the training data from the \"label\" column in the train_pd DataFrame. <br>These labels will be the target/output values for training the model.<br> X_train: Extracts the features for the training data by dropping the \"label\" column from train_pd. <br>The remaining columns will be used as input features for training the model.<br> X_test: Extracts the features for the test data directly from the test_pd DataFrame and stores them in a NumPy array. The shape of X_test is printed to verify its dimensions.__"
   ]
  },
  {
   "cell_type": "code",
   "execution_count": 3,
   "metadata": {
    "execution": {
     "iopub.execute_input": "2023-12-09T02:32:15.216467Z",
     "iopub.status.busy": "2023-12-09T02:32:15.216131Z",
     "iopub.status.idle": "2023-12-09T02:32:15.307393Z",
     "shell.execute_reply": "2023-12-09T02:32:15.306051Z",
     "shell.execute_reply.started": "2023-12-09T02:32:15.216437Z"
    }
   },
   "outputs": [
    {
     "name": "stdout",
     "output_type": "stream",
     "text": [
      "(28000, 784)\n"
     ]
    }
   ],
   "source": [
    "y_train = train_pd[\"label\"]\n",
    "X_train = train_pd.drop(labels = [\"label\"],axis = 1) \n",
    "X_test = test_pd.values\n",
    "print(X_test.shape)\n"
   ]
  },
  {
   "cell_type": "markdown",
   "metadata": {},
   "source": [
    "__5. This code segment performs data normalization on the training and test datasets. It divides all pixel values in the image data by 255.0 to scale them between 0 and 1. <br>Normalizing pixel values in image datasets is a common practice in machine learning tasks involving images. <br>It helps in improving the convergence speed of neural networks and other machine learning algorithms and aids in achieving better performance during training.__"
   ]
  },
  {
   "cell_type": "code",
   "execution_count": 4,
   "metadata": {
    "execution": {
     "iopub.execute_input": "2023-12-09T02:32:15.309347Z",
     "iopub.status.busy": "2023-12-09T02:32:15.308868Z",
     "iopub.status.idle": "2023-12-09T02:32:15.444949Z",
     "shell.execute_reply": "2023-12-09T02:32:15.443889Z",
     "shell.execute_reply.started": "2023-12-09T02:32:15.309287Z"
    }
   },
   "outputs": [],
   "source": [
    "X_train = X_train / 255.0\n",
    "X_test = X_test / 255.0"
   ]
  },
  {
   "cell_type": "markdown",
   "metadata": {},
   "source": [
    "__6. This code snippet imports various classifier classes from scikit-learn and initializes different machine learning classifiers with specific parameters:__\n",
    "\n",
    "__DummyClassifier: A classifier that makes predictions using simple rules (in this case, the \"most frequent\" strategy).<br>\n",
    "DecisionTreeClassifier: A classifier based on decision tree algorithms.<br>\n",
    "KNeighborsClassifier: A classifier implementing the k-nearest neighbors algorithm.<br>\n",
    "GaussianNB: A classifier based on Gaussian Naive Bayes algorithm.<br>\n",
    "SVC: A classifier based on Support Vector Machines.<br>\n",
    "RandomForestClassifier: A classifier based on the Random Forest ensemble method.<br>\n",
    "MLPClassifier: A classifier implementing a multi-layer perceptron neural network.<br>__"
   ]
  },
  {
   "cell_type": "code",
   "execution_count": 5,
   "metadata": {
    "execution": {
     "iopub.execute_input": "2023-12-09T02:32:15.447905Z",
     "iopub.status.busy": "2023-12-09T02:32:15.447553Z",
     "iopub.status.idle": "2023-12-09T02:32:15.456147Z",
     "shell.execute_reply": "2023-12-09T02:32:15.454854Z",
     "shell.execute_reply.started": "2023-12-09T02:32:15.447873Z"
    }
   },
   "outputs": [],
   "source": [
    "dummy_clf = DummyClassifier(strategy=\"most_frequent\")\n",
    "dec_clf = DecisionTreeClassifier()\n",
    "knn_clf = KNeighborsClassifier(n_neighbors=3)\n",
    "nb_classifier = GaussianNB()\n",
    "svc_clf = SVC(kernel='rbf', gamma='scale')\n",
    "rf_clf = RandomForestClassifier(n_estimators=100, random_state=42)\n",
    "mlp_clf = MLPClassifier(hidden_layer_sizes=(50,), max_iter=100, alpha=0.0001,\n",
    "                               solver='adam', verbose=10, random_state=42, learning_rate_init=0.001)"
   ]
  },
  {
   "cell_type": "markdown",
   "metadata": {},
   "source": [
    "__7. This code snippet demonstrates the training phase of various machine learning classifiers using the training data (X_train and y_train). Each classifier is trained using the fit() method with the training features (X_train) and their corresponding labels (y_train).__\n"
   ]
  },
  {
   "cell_type": "code",
   "execution_count": 6,
   "metadata": {
    "execution": {
     "iopub.execute_input": "2023-12-09T02:32:15.458200Z",
     "iopub.status.busy": "2023-12-09T02:32:15.457789Z"
    }
   },
   "outputs": [
    {
     "name": "stdout",
     "output_type": "stream",
     "text": [
      "a\n",
      "Iteration 1, loss = 0.59564936\n",
      "Iteration 2, loss = 0.28121472\n",
      "Iteration 3, loss = 0.23254874\n",
      "Iteration 4, loss = 0.20010007\n",
      "Iteration 5, loss = 0.17552981\n",
      "Iteration 6, loss = 0.15737165\n",
      "Iteration 7, loss = 0.14062114\n",
      "Iteration 8, loss = 0.12786752\n",
      "Iteration 9, loss = 0.11696858\n",
      "Iteration 10, loss = 0.10575857\n",
      "Iteration 11, loss = 0.09662070\n",
      "Iteration 12, loss = 0.08978305\n",
      "Iteration 13, loss = 0.08312472\n",
      "Iteration 14, loss = 0.07682152\n",
      "Iteration 15, loss = 0.07175184\n",
      "Iteration 16, loss = 0.06628327\n",
      "Iteration 17, loss = 0.06209376\n",
      "Iteration 18, loss = 0.05786509\n",
      "Iteration 19, loss = 0.05397109\n",
      "Iteration 20, loss = 0.05130834\n",
      "Iteration 21, loss = 0.04723843\n",
      "Iteration 22, loss = 0.04449115\n",
      "Iteration 23, loss = 0.04163443\n",
      "Iteration 24, loss = 0.03922938\n",
      "Iteration 25, loss = 0.03614468\n",
      "Iteration 26, loss = 0.03467583\n",
      "Iteration 27, loss = 0.03257960\n",
      "Iteration 28, loss = 0.03007737\n",
      "Iteration 29, loss = 0.02888881\n",
      "Iteration 30, loss = 0.02687594\n",
      "Iteration 31, loss = 0.02518782\n",
      "Iteration 32, loss = 0.02348077\n",
      "Iteration 33, loss = 0.02199863\n",
      "Iteration 34, loss = 0.02031074\n",
      "Iteration 35, loss = 0.01950315\n",
      "Iteration 36, loss = 0.01771356\n",
      "Iteration 37, loss = 0.01693083\n",
      "Iteration 38, loss = 0.01599226\n",
      "Iteration 39, loss = 0.01473899\n",
      "Iteration 40, loss = 0.01425780\n",
      "Iteration 41, loss = 0.01343185\n",
      "Iteration 42, loss = 0.01242205\n",
      "Iteration 43, loss = 0.01153395\n",
      "Iteration 44, loss = 0.01064499\n",
      "Iteration 45, loss = 0.00988825\n",
      "Iteration 46, loss = 0.00970277\n",
      "Iteration 47, loss = 0.00867344\n",
      "Iteration 48, loss = 0.00798127\n",
      "Iteration 49, loss = 0.00735053\n",
      "Iteration 50, loss = 0.00699906\n",
      "Iteration 51, loss = 0.00652112\n",
      "Iteration 52, loss = 0.00649515\n",
      "Iteration 53, loss = 0.00573154\n",
      "Iteration 54, loss = 0.00543117\n",
      "Iteration 55, loss = 0.00493308\n",
      "Iteration 56, loss = 0.00487889\n",
      "Iteration 57, loss = 0.00447607\n",
      "Iteration 58, loss = 0.00394274\n",
      "Iteration 59, loss = 0.00403650\n",
      "Iteration 60, loss = 0.00381319\n",
      "Iteration 61, loss = 0.00359538\n",
      "Iteration 62, loss = 0.00336255\n",
      "Iteration 63, loss = 0.00326008\n",
      "Iteration 64, loss = 0.00388945\n",
      "Iteration 65, loss = 0.00338443\n",
      "Iteration 66, loss = 0.00762645\n",
      "Iteration 67, loss = 0.00304531\n",
      "Iteration 68, loss = 0.00239953\n",
      "Iteration 69, loss = 0.00210819\n",
      "Iteration 70, loss = 0.00190842\n",
      "Iteration 71, loss = 0.00185824\n",
      "Iteration 72, loss = 0.00177705\n",
      "Iteration 73, loss = 0.00174965\n",
      "Iteration 74, loss = 0.00168895\n",
      "Iteration 75, loss = 0.00168383\n",
      "Iteration 76, loss = 0.01034645\n",
      "Iteration 77, loss = 0.00341150\n",
      "Iteration 78, loss = 0.00180739\n",
      "Iteration 79, loss = 0.00155719\n",
      "Iteration 80, loss = 0.00145219\n",
      "Iteration 81, loss = 0.00138958\n",
      "Iteration 82, loss = 0.00137023\n",
      "Iteration 83, loss = 0.00133403\n",
      "Iteration 84, loss = 0.00128343\n",
      "Iteration 85, loss = 0.00128365\n",
      "Iteration 86, loss = 0.00125211\n",
      "Iteration 87, loss = 0.00120974\n",
      "Iteration 88, loss = 0.00121103\n",
      "Iteration 89, loss = 0.00120952\n",
      "Iteration 90, loss = 0.00116167\n",
      "Iteration 91, loss = 0.00125549\n",
      "Training loss did not improve more than tol=0.000100 for 10 consecutive epochs. Stopping.\n"
     ]
    },
    {
     "data": {
      "text/plain": [
       "MLPClassifier(hidden_layer_sizes=(50,), max_iter=100, random_state=42,\n",
       "              verbose=10)"
      ]
     },
     "execution_count": 6,
     "metadata": {},
     "output_type": "execute_result"
    }
   ],
   "source": [
    "knn_clf.fit(X_train, y_train)  #Linear Regression Model\n",
    "dec_clf.fit(X_train, y_train)  #DecisionTree Model\n",
    "dummy_clf.fit(X_train, y_train)\n",
    "nb_classifier.fit(X_train, y_train)\n",
    "svc_clf.fit(X_train, y_train)\n",
    "print('a')\n",
    "rf_clf.fit(X_train, y_train)\n",
    "mlp_clf.fit(X_train, y_train)"
   ]
  },
  {
   "cell_type": "markdown",
   "metadata": {},
   "source": [
    "__8. This code snippet utilizes the train_test_split() function from scikit-learn to split the original training data (X_train and y_train) into two subsets:<br> a training set (X_train1 and y_train1) and a validation set (X_test1 and y_test1).__\n",
    "\n",
    "__X_train and y_train: Original training features and labels.<br>\n",
    "test_size=0.2: Specifies that 20% of the data will be allocated for the validation set (X_test1 and y_test1), while 80% will be used for the training set (X_train1 and y_train1).<br>\n",
    "random_state=42: Sets a specific random seed for reproducibility, ensuring that the data split remains consistent across multiple runs.__\n"
   ]
  },
  {
   "cell_type": "code",
   "execution_count": 7,
   "metadata": {},
   "outputs": [],
   "source": [
    "X_train1, X_test1, y_train1, y_test1 = train_test_split(X_train, y_train, test_size=0.2, random_state=42)\n"
   ]
  },
  {
   "cell_type": "markdown",
   "metadata": {},
   "source": [
    "__9. This code segment employs the trained classifiers (dec_clf, knn_clf, dummy_clf, nb_classifier, svc_clf, rf_clf, mlp_clf) to make predictions on the test dataset (X_test). Each classifier's predict() method is used to generate predictions based on the trained models.__\n",
    "\n",
    "__dec_pred: Predictions made by the Decision Tree classifier (dec_clf) on the test dataset.\n",
    "<br>\n",
    "knn_pred: Predictions made by the K-Nearest Neighbors classifier (knn_clf).\n",
    "<br>\n",
    "dummy_pred: Predictions made by the Dummy Classifier (dummy_clf).<br>\n",
    "nb_pred: Predictions made by the Gaussian Naive Bayes classifier (nb_classifier).<br>\n",
    "svc_pred: Predictions made by the Support Vector Machine classifier (svc_clf).<br>\n",
    "rf_pred: Predictions made by the Random Forest classifier (rf_clf).<br>\n",
    "mlp_pred: Predictions made by the Multi-Layer Perceptron Neural Network classifier (mlp_clf).<br>__"
   ]
  },
  {
   "cell_type": "code",
   "execution_count": 8,
   "metadata": {},
   "outputs": [
    {
     "name": "stdout",
     "output_type": "stream",
     "text": [
      "a\n"
     ]
    }
   ],
   "source": [
    "dec_pred = dec_clf.predict(X_test)\n",
    "knn_pred = knn_clf.predict(X_test)\n",
    "dummy_pred = dummy_clf.predict(X_test)\n",
    "nb_pred = nb_classifier.predict(X_test)\n",
    "svc_pred = svc_clf.predict(X_test)\n",
    "print('a')\n",
    "rf_pred = rf_clf.predict(X_test)\n",
    "mlp_pred = mlp_clf.predict(X_test)"
   ]
  },
  {
   "cell_type": "markdown",
   "metadata": {},
   "source": [
    "__10. This code segment contains a dictionary all_preds that holds different trained classifiers as values with their respective names as keys.<br> The loop iterates through each classifier, makes predictions on the validation set (X_test1 and y_test1), and evaluates their performance by calculating accuracy and generating classification reports using classification_report() from scikit-learn.__\n",
    "\n",
    "__accuracy_score() calculates the accuracy of the predictions compared to the true labels (y_test1).<br>\n",
    "classification_report() generates a detailed classification report containing precision, recall, F1-score, and support for each class in the dataset.<br>\n",
    "The loop iterates through each classifier, printing the accuracy and classification report for each model, allowing an assessment of their performance on the validation set (X_test1 and y_test1).__"
   ]
  },
  {
   "cell_type": "code",
   "execution_count": 9,
   "metadata": {},
   "outputs": [
    {
     "name": "stdout",
     "output_type": "stream",
     "text": [
      "Accuracy of Dummy Classifier: 10.82%\n",
      "Classification report of Dummy Classifier:\n",
      "              precision    recall  f1-score   support\n",
      "\n",
      "           0       0.00      0.00      0.00       816\n",
      "           1       0.11      1.00      0.20       909\n",
      "           2       0.00      0.00      0.00       846\n",
      "           3       0.00      0.00      0.00       937\n",
      "           4       0.00      0.00      0.00       839\n",
      "           5       0.00      0.00      0.00       702\n",
      "           6       0.00      0.00      0.00       785\n",
      "           7       0.00      0.00      0.00       893\n",
      "           8       0.00      0.00      0.00       835\n",
      "           9       0.00      0.00      0.00       838\n",
      "\n",
      "    accuracy                           0.11      8400\n",
      "   macro avg       0.01      0.10      0.02      8400\n",
      "weighted avg       0.01      0.11      0.02      8400\n",
      "\n",
      "Accuracy of decisiontree Classifier: 100.00%\n",
      "Classification report of decisiontree Classifier:\n",
      "              precision    recall  f1-score   support\n",
      "\n",
      "           0       1.00      1.00      1.00       816\n",
      "           1       1.00      1.00      1.00       909\n",
      "           2       1.00      1.00      1.00       846\n",
      "           3       1.00      1.00      1.00       937\n",
      "           4       1.00      1.00      1.00       839\n",
      "           5       1.00      1.00      1.00       702\n",
      "           6       1.00      1.00      1.00       785\n",
      "           7       1.00      1.00      1.00       893\n",
      "           8       1.00      1.00      1.00       835\n",
      "           9       1.00      1.00      1.00       838\n",
      "\n",
      "    accuracy                           1.00      8400\n",
      "   macro avg       1.00      1.00      1.00      8400\n",
      "weighted avg       1.00      1.00      1.00      8400\n",
      "\n",
      "Accuracy of knn Classifier: 98.39%\n",
      "Classification report of knn Classifier:\n",
      "              precision    recall  f1-score   support\n",
      "\n",
      "           0       0.99      1.00      0.99       816\n",
      "           1       0.97      1.00      0.98       909\n",
      "           2       0.99      0.98      0.99       846\n",
      "           3       0.98      0.98      0.98       937\n",
      "           4       0.99      0.99      0.99       839\n",
      "           5       0.97      0.98      0.98       702\n",
      "           6       0.99      0.99      0.99       785\n",
      "           7       0.98      0.98      0.98       893\n",
      "           8       1.00      0.97      0.98       835\n",
      "           9       0.97      0.98      0.98       838\n",
      "\n",
      "    accuracy                           0.98      8400\n",
      "   macro avg       0.98      0.98      0.98      8400\n",
      "weighted avg       0.98      0.98      0.98      8400\n",
      "\n",
      "Accuracy of guassian classifier: 55.89%\n",
      "Classification report of guassian classifier:\n",
      "              precision    recall  f1-score   support\n",
      "\n",
      "           0       0.75      0.88      0.81       816\n",
      "           1       0.77      0.96      0.86       909\n",
      "           2       0.93      0.25      0.39       846\n",
      "           3       0.73      0.37      0.49       937\n",
      "           4       0.84      0.16      0.26       839\n",
      "           5       0.68      0.07      0.13       702\n",
      "           6       0.58      0.96      0.73       785\n",
      "           7       0.92      0.32      0.48       893\n",
      "           8       0.31      0.64      0.42       835\n",
      "           9       0.38      0.94      0.54       838\n",
      "\n",
      "    accuracy                           0.56      8400\n",
      "   macro avg       0.69      0.56      0.51      8400\n",
      "weighted avg       0.69      0.56      0.52      8400\n",
      "\n",
      "Accuracy of Random Forest classifier: 100.00%\n",
      "Classification report of Random Forest classifier:\n",
      "              precision    recall  f1-score   support\n",
      "\n",
      "           0       1.00      1.00      1.00       816\n",
      "           1       1.00      1.00      1.00       909\n",
      "           2       1.00      1.00      1.00       846\n",
      "           3       1.00      1.00      1.00       937\n",
      "           4       1.00      1.00      1.00       839\n",
      "           5       1.00      1.00      1.00       702\n",
      "           6       1.00      1.00      1.00       785\n",
      "           7       1.00      1.00      1.00       893\n",
      "           8       1.00      1.00      1.00       835\n",
      "           9       1.00      1.00      1.00       838\n",
      "\n",
      "    accuracy                           1.00      8400\n",
      "   macro avg       1.00      1.00      1.00      8400\n",
      "weighted avg       1.00      1.00      1.00      8400\n",
      "\n",
      "Accuracy of MLP Classifier: 100.00%\n",
      "Classification report of MLP Classifier:\n",
      "              precision    recall  f1-score   support\n",
      "\n",
      "           0       1.00      1.00      1.00       816\n",
      "           1       1.00      1.00      1.00       909\n",
      "           2       1.00      1.00      1.00       846\n",
      "           3       1.00      1.00      1.00       937\n",
      "           4       1.00      1.00      1.00       839\n",
      "           5       1.00      1.00      1.00       702\n",
      "           6       1.00      1.00      1.00       785\n",
      "           7       1.00      1.00      1.00       893\n",
      "           8       1.00      1.00      1.00       835\n",
      "           9       1.00      1.00      1.00       838\n",
      "\n",
      "    accuracy                           1.00      8400\n",
      "   macro avg       1.00      1.00      1.00      8400\n",
      "weighted avg       1.00      1.00      1.00      8400\n",
      "\n",
      "Accuracy of SVM Classifier: 98.87%\n",
      "Classification report of SVM Classifier:\n",
      "              precision    recall  f1-score   support\n",
      "\n",
      "           0       1.00      1.00      1.00       816\n",
      "           1       0.99      1.00      0.99       909\n",
      "           2       0.99      0.99      0.99       846\n",
      "           3       0.99      0.98      0.99       937\n",
      "           4       0.98      0.99      0.98       839\n",
      "           5       0.99      0.98      0.99       702\n",
      "           6       0.99      0.99      0.99       785\n",
      "           7       0.99      0.98      0.98       893\n",
      "           8       0.99      0.99      0.99       835\n",
      "           9       0.98      0.99      0.98       838\n",
      "\n",
      "    accuracy                           0.99      8400\n",
      "   macro avg       0.99      0.99      0.99      8400\n",
      "weighted avg       0.99      0.99      0.99      8400\n",
      "\n"
     ]
    }
   ],
   "source": [
    "all_preds = {'Dummy Classifier':dummy_clf,'decisiontree Classifier':dec_clf,\n",
    "        'knn Classifier':knn_clf, \"guassian classifier\":nb_classifier,\"Random Forest classifier\":rf_clf,\n",
    "        \"MLP Classifier\":mlp_clf,\"SVM Classifier\":svc_clf}\n",
    "for i,j in all_preds.items():\n",
    "    y_pred = j.predict(X_test1)\n",
    "    accuracy = accuracy_score(y_test1, y_pred)\n",
    "    print(f\"Accuracy of {i}: {accuracy * 100:.2f}%\")\n",
    "    classification_rep = classification_report(y_test1, y_pred)\n",
    "    print(f\"Classification report of {i}:\\n{classification_rep}\")\n",
    "    "
   ]
  },
  {
   "cell_type": "markdown",
   "metadata": {},
   "source": [
    "__11. This code segment takes the predictions made by various classifiers (dummy_pred, dec_pred, knn_pred, nb_pred, svc_pred, rf_pred, mlp_pred) and performs rounding of the predicted values to integers using the round() method. After rounding, the predictions are converted to integers using astype(int), resulting in integer values for the predictions made by each classifier.__"
   ]
  },
  {
   "cell_type": "code",
   "execution_count": 10,
   "metadata": {},
   "outputs": [],
   "source": [
    "dummy_preds = dummy_pred.round().astype(int)\n",
    "dec_preds = dec_pred.round().astype(int)\n",
    "knn_preds = knn_pred.round().astype(int)\n",
    "nb_preds = nb_pred.round().astype(int)\n",
    "svm_preds = svc_pred.round().astype(int)\n",
    "rf_preds = rf_pred.round().astype(int)\n",
    "mlp_preds = mlp_pred.round().astype(int)\n"
   ]
  },
  {
   "cell_type": "markdown",
   "metadata": {},
   "source": [
    "__12. This code segment creates a dictionary preds containing different sets of predictions made by various classifiers. The loop iterates through each key-value pair in preds, where each key represents the name of the classifier and its corresponding predicted values as values.__\n",
    "\n",
    "__Inside the loop:__\n",
    "\n",
    "__It creates a DataFrame output_df containing image IDs and their predicted labels.<br>\n",
    "The image IDs are generated using range(1, len(X_test) + 1).<br>\n",
    "The DataFrame is then saved to a CSV file named after the respective classifier ({key}.csv) using to_csv() method from Pandas, excluding the index column.__"
   ]
  },
  {
   "cell_type": "code",
   "execution_count": 11,
   "metadata": {},
   "outputs": [
    {
     "name": "stdout",
     "output_type": "stream",
     "text": [
      "dummy prediction\n",
      "decisiontree predictions\n",
      "knn predictions\n",
      "guassian predictions\n",
      "Random Forest Predictions\n",
      "MLP Predections\n",
      "SVC predictions\n"
     ]
    }
   ],
   "source": [
    "preds = {'dummy prediction':dummy_preds,'decisiontree predictions':dec_preds,\n",
    "        'knn predictions':knn_preds, \"guassian predictions\":nb_preds,\"Random Forest Predictions\":rf_preds,\n",
    "         \"MLP Predections\": mlp_preds,\"SVC predictions\":svm_preds}\n",
    "for key, values in preds.items():\n",
    "    print(key)\n",
    "    image_ids = range(1, len(X_test) + 1)\n",
    "    output_df = pd.DataFrame({\n",
    "        'ImageID': image_ids,\n",
    "        'Label': values\n",
    "    })\n",
    "    output_df.to_csv(f'{key}.csv', index=False)"
   ]
  },
  {
   "cell_type": "markdown",
   "metadata": {},
   "source": [
    "__Dummy Classifier__"
   ]
  },
  {
   "attachments": {
    "WhatsApp%20Image%202023-12-09%20at%2009.21.29_11b39ec5.jpg": {
     "image/jpeg": "[encoded data removed]"
    }
   },
   "cell_type": "markdown",
   "metadata": {},
   "source": [
    "![WhatsApp%20Image%202023-12-09%20at%2009.21.29_11b39ec5.jpg](attachment:WhatsApp%20Image%202023-12-09%20at%2009.21.29_11b39ec5.jpg)"
   ]
  },
  {
   "cell_type": "markdown",
   "metadata": {},
   "source": [
    "__KNN Classifier__"
   ]
  },
  {
   "attachments": {
    "WhatsApp%20Image%202023-12-09%20at%2009.17.23_aec95fbb.jpg": {
     "image/jpeg": "[encoded data removed]"
    }
   },
   "cell_type": "markdown",
   "metadata": {},
   "source": [
    "![WhatsApp%20Image%202023-12-09%20at%2009.17.23_aec95fbb.jpg](attachment:WhatsApp%20Image%202023-12-09%20at%2009.17.23_aec95fbb.jpg)"
   ]
  },
  {
   "cell_type": "markdown",
   "metadata": {},
   "source": [
    "__Decision Tree Classifier__"
   ]
  },
  {
   "attachments": {
    "WhatsApp%20Image%202023-12-09%20at%2009.18.11_557becb6.jpg": {
     "image/jpeg": "[encoded data removed]"
    }
   },
   "cell_type": "markdown",
   "metadata": {},
   "source": [
    "![WhatsApp%20Image%202023-12-09%20at%2009.18.11_557becb6.jpg](attachment:WhatsApp%20Image%202023-12-09%20at%2009.18.11_557becb6.jpg)"
   ]
  },
  {
   "cell_type": "markdown",
   "metadata": {},
   "source": [
    "__Gaussian Navie Bayes Classifier__"
   ]
  },
  {
   "attachments": {
    "WhatsApp%20Image%202023-12-09%20at%2009.25.38_5e7bcfd9.jpg": {
     "image/jpeg": "[encoded data removed]"
    }
   },
   "cell_type": "markdown",
   "metadata": {},
   "source": [
    "![WhatsApp%20Image%202023-12-09%20at%2009.25.38_5e7bcfd9.jpg](attachment:WhatsApp%20Image%202023-12-09%20at%2009.25.38_5e7bcfd9.jpg)"
   ]
  },
  {
   "cell_type": "markdown",
   "metadata": {},
   "source": [
    "__Multi-Layer Perceptron Classifier__"
   ]
  },
  {
   "attachments": {
    "WhatsApp%20Image%202023-12-09%20at%2009.20.42_bd9b8bab.jpg": {
     "image/jpeg": "[encoded data removed]"
    }
   },
   "cell_type": "markdown",
   "metadata": {},
   "source": [
    "![WhatsApp%20Image%202023-12-09%20at%2009.20.42_bd9b8bab.jpg](attachment:WhatsApp%20Image%202023-12-09%20at%2009.20.42_bd9b8bab.jpg)"
   ]
  },
  {
   "cell_type": "markdown",
   "metadata": {},
   "source": [
    "__Random Forest Classifier__"
   ]
  },
  {
   "attachments": {
    "WhatsApp%20Image%202023-12-09%20at%2009.54.28_1885b662.jpg": {
     "image/jpeg": "[encoded data removed]"
    }
   },
   "cell_type": "markdown",
   "metadata": {},
   "source": [
    "![WhatsApp%20Image%202023-12-09%20at%2009.54.28_1885b662.jpg](attachment:WhatsApp%20Image%202023-12-09%20at%2009.54.28_1885b662.jpg)"
   ]
  },
  {
   "cell_type": "markdown",
   "metadata": {},
   "source": [
    "__The high accuracy achieved across all classifiers suggests that our models performed well without requiring hyperparameter optimization. This outcome implies that the initial configuration of the models, including their default settings and parameters, led to satisfactory performance in accurately predicting the target labels. As a result, there was no need for fine-tuning or adjusting the hyperparameters of these models to achieve better accuracy. However, while high accuracy is promising, it's essential to consider potential overfitting or generalization issues that may arise when models perform exceedingly well on the given dataset but may struggle with new, unseen data. Therefore, despite high accuracies, it could still be beneficial to explore hyperparameter tuning techniques in order to ensure optimal model performance and robustness across different datasets or real-world scenarios.__"
   ]
  },
  {
   "cell_type": "code",
   "execution_count": null,
   "metadata": {},
   "outputs": [],
   "source": []
  }
 ],
 "metadata": {
  "kaggle": {
   "accelerator": "none",
   "dataSources": [
    {
     "databundleVersionId": 861823,
     "sourceId": 3004,
     "sourceType": "competition"
    },
    {
     "datasetId": 566741,
     "sourceId": 1028873,
     "sourceType": "datasetVersion"
    }
   ],
   "dockerImageVersionId": 30558,
   "isGpuEnabled": false,
   "isInternetEnabled": true,
   "language": "python",
   "sourceType": "notebook"
  },
  "kernelspec": {
   "display_name": "Python 3 (ipykernel)",
   "language": "python",
   "name": "python3"
  },
  "language_info": {
   "codemirror_mode": {
    "name": "ipython",
    "version": 3
   },
   "file_extension": ".py",
   "mimetype": "text/x-python",
   "name": "python",
   "nbconvert_exporter": "python",
   "pygments_lexer": "ipython3",
   "version": "3.9.13"
  }
 },
 "nbformat": 4,
 "nbformat_minor": 4
}
